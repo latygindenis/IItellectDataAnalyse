{
 "cells": [
  {
   "cell_type": "code",
   "execution_count": 1,
   "metadata": {},
   "outputs": [
    {
     "name": "stdout",
     "output_type": "stream",
     "text": [
      "Populating the interactive namespace from numpy and matplotlib\n"
     ]
    }
   ],
   "source": [
    "### Python2.7\n",
    "import pandas as pd\n",
    "import numpy as np\n",
    "\n",
    "from sklearn import linear_model\n",
    "from sklearn import metrics\n",
    "from sklearn.model_selection import train_test_split, cross_val_score\n",
    "from scipy import stats\n",
    "\n",
    "import pylab as pl\n",
    "import seaborn as sns\n",
    "\n",
    "pd.set_option('display.precision', 3);\n",
    "sns.set(font_scale=1) # размер шрифта\n",
    "\n",
    "%pylab inline"
   ]
  },
  {
   "cell_type": "code",
   "execution_count": 51,
   "metadata": {},
   "outputs": [],
   "source": [
    "data = pd.read_csv('ccpp.csv', # путь к файлу, используй автодотолнение\n",
    "                   sep=';', # разделитель данных в файле\n",
    "                   decimal=\",\",#дробная часть отделяется запятой\n",
    "                   header=0 # номер строки с заголовками. header='None', если заголовки отсутствуют\n",
    "                  )"
   ]
  },
  {
   "cell_type": "code",
   "execution_count": 52,
   "metadata": {},
   "outputs": [
    {
     "data": {
      "text/html": [
       "<div>\n",
       "<style scoped>\n",
       "    .dataframe tbody tr th:only-of-type {\n",
       "        vertical-align: middle;\n",
       "    }\n",
       "\n",
       "    .dataframe tbody tr th {\n",
       "        vertical-align: top;\n",
       "    }\n",
       "\n",
       "    .dataframe thead th {\n",
       "        text-align: right;\n",
       "    }\n",
       "</style>\n",
       "<table border=\"1\" class=\"dataframe\">\n",
       "  <thead>\n",
       "    <tr style=\"text-align: right;\">\n",
       "      <th></th>\n",
       "      <th>AT</th>\n",
       "      <th>V</th>\n",
       "      <th>AP</th>\n",
       "      <th>RH</th>\n",
       "      <th>PE</th>\n",
       "    </tr>\n",
       "  </thead>\n",
       "  <tbody>\n",
       "    <tr>\n",
       "      <th>0</th>\n",
       "      <td>8.34</td>\n",
       "      <td>40.77</td>\n",
       "      <td>1010.84</td>\n",
       "      <td>90.01</td>\n",
       "      <td>480.48</td>\n",
       "    </tr>\n",
       "    <tr>\n",
       "      <th>1</th>\n",
       "      <td>23.64</td>\n",
       "      <td>58.49</td>\n",
       "      <td>1011.40</td>\n",
       "      <td>74.20</td>\n",
       "      <td>445.75</td>\n",
       "    </tr>\n",
       "    <tr>\n",
       "      <th>2</th>\n",
       "      <td>29.74</td>\n",
       "      <td>56.90</td>\n",
       "      <td>1007.15</td>\n",
       "      <td>41.91</td>\n",
       "      <td>438.76</td>\n",
       "    </tr>\n",
       "    <tr>\n",
       "      <th>3</th>\n",
       "      <td>19.07</td>\n",
       "      <td>49.69</td>\n",
       "      <td>1007.22</td>\n",
       "      <td>76.79</td>\n",
       "      <td>453.09</td>\n",
       "    </tr>\n",
       "    <tr>\n",
       "      <th>4</th>\n",
       "      <td>11.80</td>\n",
       "      <td>40.66</td>\n",
       "      <td>1017.13</td>\n",
       "      <td>97.20</td>\n",
       "      <td>464.43</td>\n",
       "    </tr>\n",
       "  </tbody>\n",
       "</table>\n",
       "</div>"
      ],
      "text/plain": [
       "      AT      V       AP     RH      PE\n",
       "0   8.34  40.77  1010.84  90.01  480.48\n",
       "1  23.64  58.49  1011.40  74.20  445.75\n",
       "2  29.74  56.90  1007.15  41.91  438.76\n",
       "3  19.07  49.69  1007.22  76.79  453.09\n",
       "4  11.80  40.66  1017.13  97.20  464.43"
      ]
     },
     "execution_count": 52,
     "metadata": {},
     "output_type": "execute_result"
    }
   ],
   "source": [
    "data.head()"
   ]
  },
  {
   "cell_type": "code",
   "execution_count": 53,
   "metadata": {},
   "outputs": [
    {
     "data": {
      "text/plain": [
       "Index([u'AT', u'V', u'AP', u'RH', u'PE'], dtype='object')"
      ]
     },
     "execution_count": 53,
     "metadata": {},
     "output_type": "execute_result"
    }
   ],
   "source": [
    "data.columns"
   ]
  },
  {
   "cell_type": "code",
   "execution_count": 55,
   "metadata": {},
   "outputs": [],
   "source": [
    "data.columns = ([u'°С', u'Вакуум на выхлопе паровой турбины, см рт. ст.', u'Атмосферное давление, милибары',u'Относительная влажность, %', u'Выработка эл. энергии за час, МегаВатт'])"
   ]
  },
  {
   "cell_type": "code",
   "execution_count": 56,
   "metadata": {},
   "outputs": [
    {
     "data": {
      "text/html": [
       "<div>\n",
       "<style scoped>\n",
       "    .dataframe tbody tr th:only-of-type {\n",
       "        vertical-align: middle;\n",
       "    }\n",
       "\n",
       "    .dataframe tbody tr th {\n",
       "        vertical-align: top;\n",
       "    }\n",
       "\n",
       "    .dataframe thead th {\n",
       "        text-align: right;\n",
       "    }\n",
       "</style>\n",
       "<table border=\"1\" class=\"dataframe\">\n",
       "  <thead>\n",
       "    <tr style=\"text-align: right;\">\n",
       "      <th></th>\n",
       "      <th>°С</th>\n",
       "      <th>Вакуум на выхлопе паровой турбины, см рт. ст.</th>\n",
       "      <th>Атмосферное давление, милибары</th>\n",
       "      <th>Относительная влажность, %</th>\n",
       "      <th>Выработка эл. энергии за час, МегаВатт</th>\n",
       "    </tr>\n",
       "  </thead>\n",
       "  <tbody>\n",
       "    <tr>\n",
       "      <th>0</th>\n",
       "      <td>8.34</td>\n",
       "      <td>40.77</td>\n",
       "      <td>1010.84</td>\n",
       "      <td>90.01</td>\n",
       "      <td>480.48</td>\n",
       "    </tr>\n",
       "    <tr>\n",
       "      <th>1</th>\n",
       "      <td>23.64</td>\n",
       "      <td>58.49</td>\n",
       "      <td>1011.40</td>\n",
       "      <td>74.20</td>\n",
       "      <td>445.75</td>\n",
       "    </tr>\n",
       "    <tr>\n",
       "      <th>2</th>\n",
       "      <td>29.74</td>\n",
       "      <td>56.90</td>\n",
       "      <td>1007.15</td>\n",
       "      <td>41.91</td>\n",
       "      <td>438.76</td>\n",
       "    </tr>\n",
       "    <tr>\n",
       "      <th>3</th>\n",
       "      <td>19.07</td>\n",
       "      <td>49.69</td>\n",
       "      <td>1007.22</td>\n",
       "      <td>76.79</td>\n",
       "      <td>453.09</td>\n",
       "    </tr>\n",
       "    <tr>\n",
       "      <th>4</th>\n",
       "      <td>11.80</td>\n",
       "      <td>40.66</td>\n",
       "      <td>1017.13</td>\n",
       "      <td>97.20</td>\n",
       "      <td>464.43</td>\n",
       "    </tr>\n",
       "  </tbody>\n",
       "</table>\n",
       "</div>"
      ],
      "text/plain": [
       "      °С  Вакуум на выхлопе паровой турбины, см рт. ст.  \\\n",
       "0   8.34                                          40.77   \n",
       "1  23.64                                          58.49   \n",
       "2  29.74                                          56.90   \n",
       "3  19.07                                          49.69   \n",
       "4  11.80                                          40.66   \n",
       "\n",
       "   Атмосферное давление, милибары  Относительная влажность, %  \\\n",
       "0                         1010.84                       90.01   \n",
       "1                         1011.40                       74.20   \n",
       "2                         1007.15                       41.91   \n",
       "3                         1007.22                       76.79   \n",
       "4                         1017.13                       97.20   \n",
       "\n",
       "   Выработка эл. энергии за час, МегаВатт  \n",
       "0                                  480.48  \n",
       "1                                  445.75  \n",
       "2                                  438.76  \n",
       "3                                  453.09  \n",
       "4                                  464.43  "
      ]
     },
     "execution_count": 56,
     "metadata": {},
     "output_type": "execute_result"
    }
   ],
   "source": [
    "data.head()"
   ]
  },
  {
   "cell_type": "code",
   "execution_count": 57,
   "metadata": {},
   "outputs": [
    {
     "name": "stdout",
     "output_type": "stream",
     "text": [
      "Итого 9568 записи, 5 столбец(ов) (признак(ов)).\n"
     ]
    }
   ],
   "source": [
    "nrow = data.shape[0]\n",
    "ncol = data.shape[1]\n",
    "print (\"Итого \" + str(nrow) + \" записи, \" + str(ncol) + \" столбец(ов) (признак(ов)).\")"
   ]
  },
  {
   "cell_type": "code",
   "execution_count": 58,
   "metadata": {},
   "outputs": [
    {
     "name": "stdout",
     "output_type": "stream",
     "text": [
      "<class 'pandas.core.frame.DataFrame'>\n",
      "RangeIndex: 9568 entries, 0 to 9567\n",
      "Data columns (total 5 columns):\n",
      "°С                                               9568 non-null float64\n",
      "Вакуум на выхлопе паровой турбины, см рт. ст.    9568 non-null float64\n",
      "Атмосферное давление, милибары                   9568 non-null float64\n",
      "Относительная влажность, %                       9568 non-null float64\n",
      "Выработка эл. энергии за час, МегаВатт           9568 non-null float64\n",
      "dtypes: float64(5)\n",
      "memory usage: 373.8 KB\n",
      "None\n"
     ]
    }
   ],
   "source": [
    "print(data.info())\n",
    "#Похоже данные без пропусков"
   ]
  },
  {
   "cell_type": "code",
   "execution_count": 59,
   "metadata": {},
   "outputs": [
    {
     "data": {
      "text/html": [
       "<div>\n",
       "<style scoped>\n",
       "    .dataframe tbody tr th:only-of-type {\n",
       "        vertical-align: middle;\n",
       "    }\n",
       "\n",
       "    .dataframe tbody tr th {\n",
       "        vertical-align: top;\n",
       "    }\n",
       "\n",
       "    .dataframe thead th {\n",
       "        text-align: right;\n",
       "    }\n",
       "</style>\n",
       "<table border=\"1\" class=\"dataframe\">\n",
       "  <thead>\n",
       "    <tr style=\"text-align: right;\">\n",
       "      <th></th>\n",
       "      <th>°С</th>\n",
       "      <th>Вакуум на выхлопе паровой турбины, см рт. ст.</th>\n",
       "      <th>Атмосферное давление, милибары</th>\n",
       "      <th>Относительная влажность, %</th>\n",
       "      <th>Выработка эл. энергии за час, МегаВатт</th>\n",
       "    </tr>\n",
       "  </thead>\n",
       "  <tbody>\n",
       "    <tr>\n",
       "      <th>count</th>\n",
       "      <td>9568.000</td>\n",
       "      <td>9568.000</td>\n",
       "      <td>9568.000</td>\n",
       "      <td>9568.000</td>\n",
       "      <td>9568.000</td>\n",
       "    </tr>\n",
       "    <tr>\n",
       "      <th>mean</th>\n",
       "      <td>19.651</td>\n",
       "      <td>54.306</td>\n",
       "      <td>1013.259</td>\n",
       "      <td>73.309</td>\n",
       "      <td>454.365</td>\n",
       "    </tr>\n",
       "    <tr>\n",
       "      <th>std</th>\n",
       "      <td>7.452</td>\n",
       "      <td>12.708</td>\n",
       "      <td>5.939</td>\n",
       "      <td>14.600</td>\n",
       "      <td>17.067</td>\n",
       "    </tr>\n",
       "    <tr>\n",
       "      <th>min</th>\n",
       "      <td>1.810</td>\n",
       "      <td>25.360</td>\n",
       "      <td>992.890</td>\n",
       "      <td>25.560</td>\n",
       "      <td>420.260</td>\n",
       "    </tr>\n",
       "    <tr>\n",
       "      <th>25%</th>\n",
       "      <td>13.510</td>\n",
       "      <td>41.740</td>\n",
       "      <td>1009.100</td>\n",
       "      <td>63.328</td>\n",
       "      <td>439.750</td>\n",
       "    </tr>\n",
       "    <tr>\n",
       "      <th>50%</th>\n",
       "      <td>20.345</td>\n",
       "      <td>52.080</td>\n",
       "      <td>1012.940</td>\n",
       "      <td>74.975</td>\n",
       "      <td>451.550</td>\n",
       "    </tr>\n",
       "    <tr>\n",
       "      <th>75%</th>\n",
       "      <td>25.720</td>\n",
       "      <td>66.540</td>\n",
       "      <td>1017.260</td>\n",
       "      <td>84.830</td>\n",
       "      <td>468.430</td>\n",
       "    </tr>\n",
       "    <tr>\n",
       "      <th>max</th>\n",
       "      <td>37.110</td>\n",
       "      <td>81.560</td>\n",
       "      <td>1033.300</td>\n",
       "      <td>100.160</td>\n",
       "      <td>495.760</td>\n",
       "    </tr>\n",
       "  </tbody>\n",
       "</table>\n",
       "</div>"
      ],
      "text/plain": [
       "             °С  Вакуум на выхлопе паровой турбины, см рт. ст.  \\\n",
       "count  9568.000                                       9568.000   \n",
       "mean     19.651                                         54.306   \n",
       "std       7.452                                         12.708   \n",
       "min       1.810                                         25.360   \n",
       "25%      13.510                                         41.740   \n",
       "50%      20.345                                         52.080   \n",
       "75%      25.720                                         66.540   \n",
       "max      37.110                                         81.560   \n",
       "\n",
       "       Атмосферное давление, милибары  Относительная влажность, %  \\\n",
       "count                        9568.000                    9568.000   \n",
       "mean                         1013.259                      73.309   \n",
       "std                             5.939                      14.600   \n",
       "min                           992.890                      25.560   \n",
       "25%                          1009.100                      63.328   \n",
       "50%                          1012.940                      74.975   \n",
       "75%                          1017.260                      84.830   \n",
       "max                          1033.300                     100.160   \n",
       "\n",
       "       Выработка эл. энергии за час, МегаВатт  \n",
       "count                                9568.000  \n",
       "mean                                  454.365  \n",
       "std                                    17.067  \n",
       "min                                   420.260  \n",
       "25%                                   439.750  \n",
       "50%                                   451.550  \n",
       "75%                                   468.430  \n",
       "max                                   495.760  "
      ]
     },
     "execution_count": 59,
     "metadata": {},
     "output_type": "execute_result"
    }
   ],
   "source": [
    "data.describe()"
   ]
  }
 ],
 "metadata": {
  "kernelspec": {
   "display_name": "Python 2",
   "language": "python",
   "name": "python2"
  },
  "language_info": {
   "codemirror_mode": {
    "name": "ipython",
    "version": 2
   },
   "file_extension": ".py",
   "mimetype": "text/x-python",
   "name": "python",
   "nbconvert_exporter": "python",
   "pygments_lexer": "ipython2",
   "version": "2.7.13"
  }
 },
 "nbformat": 4,
 "nbformat_minor": 2
}
