{
 "cells": [
  {
   "cell_type": "code",
   "execution_count": 1,
   "metadata": {},
   "outputs": [],
   "source": [
    "import pandas as pd\n",
    "import numpy as np\n",
    "\n",
    "###import pybrain as pb\n",
    "from pybrain.tools.shortcuts import buildNetwork\n",
    "from pybrain.supervised.trainers import BackpropTrainer\n",
    "from pybrain.datasets import SupervisedDataSet\n",
    "from pybrain.structure import SigmoidLayer\n",
    "from pybrain.structure import LinearLayer\n",
    "from pybrain.structure import SoftmaxLayer\n",
    "\n",
    "from sklearn import linear_model\n",
    "from sklearn import tree\n",
    "from sklearn import metrics\n",
    "from sklearn import preprocessing\n",
    "from sklearn.model_selection import train_test_split, cross_val_score\n",
    "\n",
    "from sklearn.preprocessing import MinMaxScaler\n",
    "from sklearn.preprocessing import MaxAbsScaler\n",
    "from sklearn.preprocessing import StandardScaler\n",
    "from sklearn.preprocessing import RobustScaler\n",
    "\n",
    "from sklearn.preprocessing import Normalizer\n",
    "from sklearn.preprocessing import QuantileTransformer\n",
    "from sklearn.preprocessing import PowerTransformer\n",
    "\n",
    "import pickle\n",
    "import json\n",
    "\n",
    "import seaborn as sns; sns.set()\n",
    "import matplotlib.pyplot as plt\n",
    "from sklearn.tree import export_graphviz\n",
    "\n",
    "pd.set_option('display.precision', 3);\n",
    "%matplotlib inline\n",
    "\n",
    "import numpy as np\n",
    "from scipy.stats import norm\n",
    "from sklearn.linear_model import LinearRegression\n",
    "import json"
   ]
  },
  {
   "cell_type": "markdown",
   "metadata": {},
   "source": [
    "# Загрузка данных"
   ]
  },
  {
   "cell_type": "code",
   "execution_count": 2,
   "metadata": {},
   "outputs": [],
   "source": [
    "dataTEST = pd.read_csv(\"./WV_test.csv\", # путь к файлу, используй автодотолнение\n",
    "                   sep=',', # разделитель данных в файле\n",
    "                   header=0 # номер строки с заголовками. header='None', если заголовки отсутствуют\n",
    "                  )\n",
    "dataTEST_Norm = pd.read_csv(\"./WVNorm_test.csv\", # путь к файлу, используй автодотолнение\n",
    "                   sep=',', # разделитель данных в файле\n",
    "                   header=0 # номер строки с заголовками. header='None', если заголовки отсутствуют\n",
    "                  )"
   ]
  },
  {
   "cell_type": "code",
   "execution_count": 3,
   "metadata": {},
   "outputs": [
    {
     "data": {
      "text/plain": [
       "(2871, 5)"
      ]
     },
     "execution_count": 3,
     "metadata": {},
     "output_type": "execute_result"
    }
   ],
   "source": [
    "dataTEST.shape"
   ]
  },
  {
   "cell_type": "code",
   "execution_count": 4,
   "metadata": {},
   "outputs": [
    {
     "data": {
      "text/plain": [
       "Index([u'Temperature', u'Vacuum', u'Pressure', u'Humidity', u'EnergyOutput'], dtype='object')"
      ]
     },
     "execution_count": 4,
     "metadata": {},
     "output_type": "execute_result"
    }
   ],
   "source": [
    "dataTEST.columns"
   ]
  },
  {
   "cell_type": "code",
   "execution_count": 5,
   "metadata": {},
   "outputs": [],
   "source": [
    "features = [u'Temperature', u'Vacuum']\n",
    "target = [u'EnergyOutput']"
   ]
  },
  {
   "cell_type": "code",
   "execution_count": 6,
   "metadata": {},
   "outputs": [
    {
     "data": {
      "text/html": [
       "<div>\n",
       "<style scoped>\n",
       "    .dataframe tbody tr th:only-of-type {\n",
       "        vertical-align: middle;\n",
       "    }\n",
       "\n",
       "    .dataframe tbody tr th {\n",
       "        vertical-align: top;\n",
       "    }\n",
       "\n",
       "    .dataframe thead th {\n",
       "        text-align: right;\n",
       "    }\n",
       "</style>\n",
       "<table border=\"1\" class=\"dataframe\">\n",
       "  <thead>\n",
       "    <tr style=\"text-align: right;\">\n",
       "      <th></th>\n",
       "      <th>Temperature</th>\n",
       "      <th>Vacuum</th>\n",
       "      <th>Pressure</th>\n",
       "      <th>Humidity</th>\n",
       "      <th>EnergyOutput</th>\n",
       "    </tr>\n",
       "  </thead>\n",
       "  <tbody>\n",
       "    <tr>\n",
       "      <th>0</th>\n",
       "      <td>12.64</td>\n",
       "      <td>41.49</td>\n",
       "      <td>1019.78</td>\n",
       "      <td>94.00</td>\n",
       "      <td>468.78</td>\n",
       "    </tr>\n",
       "    <tr>\n",
       "      <th>1</th>\n",
       "      <td>27.08</td>\n",
       "      <td>62.91</td>\n",
       "      <td>1011.90</td>\n",
       "      <td>62.58</td>\n",
       "      <td>442.91</td>\n",
       "    </tr>\n",
       "  </tbody>\n",
       "</table>\n",
       "</div>"
      ],
      "text/plain": [
       "   Temperature  Vacuum  Pressure  Humidity  EnergyOutput\n",
       "0        12.64   41.49   1019.78     94.00        468.78\n",
       "1        27.08   62.91   1011.90     62.58        442.91"
      ]
     },
     "execution_count": 6,
     "metadata": {},
     "output_type": "execute_result"
    }
   ],
   "source": [
    "dataTEST[:2]"
   ]
  },
  {
   "cell_type": "code",
   "execution_count": 7,
   "metadata": {},
   "outputs": [
    {
     "data": {
      "text/html": [
       "<div>\n",
       "<style scoped>\n",
       "    .dataframe tbody tr th:only-of-type {\n",
       "        vertical-align: middle;\n",
       "    }\n",
       "\n",
       "    .dataframe tbody tr th {\n",
       "        vertical-align: top;\n",
       "    }\n",
       "\n",
       "    .dataframe thead th {\n",
       "        text-align: right;\n",
       "    }\n",
       "</style>\n",
       "<table border=\"1\" class=\"dataframe\">\n",
       "  <thead>\n",
       "    <tr style=\"text-align: right;\">\n",
       "      <th></th>\n",
       "      <th>Temperature</th>\n",
       "      <th>Vacuum</th>\n",
       "      <th>Pressure</th>\n",
       "      <th>Humidity</th>\n",
       "      <th>EnergyOutput</th>\n",
       "    </tr>\n",
       "  </thead>\n",
       "  <tbody>\n",
       "    <tr>\n",
       "      <th>0</th>\n",
       "      <td>0.307</td>\n",
       "      <td>0.287</td>\n",
       "      <td>0.665</td>\n",
       "      <td>0.917</td>\n",
       "      <td>0.643</td>\n",
       "    </tr>\n",
       "    <tr>\n",
       "      <th>1</th>\n",
       "      <td>0.716</td>\n",
       "      <td>0.668</td>\n",
       "      <td>0.470</td>\n",
       "      <td>0.496</td>\n",
       "      <td>0.300</td>\n",
       "    </tr>\n",
       "  </tbody>\n",
       "</table>\n",
       "</div>"
      ],
      "text/plain": [
       "   Temperature  Vacuum  Pressure  Humidity  EnergyOutput\n",
       "0        0.307   0.287     0.665     0.917         0.643\n",
       "1        0.716   0.668     0.470     0.496         0.300"
      ]
     },
     "execution_count": 7,
     "metadata": {},
     "output_type": "execute_result"
    }
   ],
   "source": [
    "dataTEST_Norm[:2]"
   ]
  },
  {
   "cell_type": "code",
   "execution_count": 8,
   "metadata": {},
   "outputs": [
    {
     "data": {
      "text/html": [
       "<div>\n",
       "<style scoped>\n",
       "    .dataframe tbody tr th:only-of-type {\n",
       "        vertical-align: middle;\n",
       "    }\n",
       "\n",
       "    .dataframe tbody tr th {\n",
       "        vertical-align: top;\n",
       "    }\n",
       "\n",
       "    .dataframe thead th {\n",
       "        text-align: right;\n",
       "    }\n",
       "</style>\n",
       "<table border=\"1\" class=\"dataframe\">\n",
       "  <thead>\n",
       "    <tr style=\"text-align: right;\">\n",
       "      <th></th>\n",
       "      <th>Temperature</th>\n",
       "      <th>Vacuum</th>\n",
       "      <th>Pressure</th>\n",
       "      <th>Humidity</th>\n",
       "      <th>EnergyOutput</th>\n",
       "    </tr>\n",
       "  </thead>\n",
       "  <tbody>\n",
       "    <tr>\n",
       "      <th>count</th>\n",
       "      <td>2871.000</td>\n",
       "      <td>2871.000</td>\n",
       "      <td>2871.000</td>\n",
       "      <td>2871.000</td>\n",
       "      <td>2871.000</td>\n",
       "    </tr>\n",
       "    <tr>\n",
       "      <th>mean</th>\n",
       "      <td>19.538</td>\n",
       "      <td>54.029</td>\n",
       "      <td>1013.136</td>\n",
       "      <td>73.350</td>\n",
       "      <td>454.627</td>\n",
       "    </tr>\n",
       "    <tr>\n",
       "      <th>std</th>\n",
       "      <td>7.453</td>\n",
       "      <td>12.615</td>\n",
       "      <td>5.879</td>\n",
       "      <td>14.734</td>\n",
       "      <td>17.053</td>\n",
       "    </tr>\n",
       "    <tr>\n",
       "      <th>min</th>\n",
       "      <td>2.580</td>\n",
       "      <td>25.360</td>\n",
       "      <td>993.820</td>\n",
       "      <td>30.590</td>\n",
       "      <td>421.570</td>\n",
       "    </tr>\n",
       "    <tr>\n",
       "      <th>25%</th>\n",
       "      <td>13.430</td>\n",
       "      <td>41.770</td>\n",
       "      <td>1008.850</td>\n",
       "      <td>63.390</td>\n",
       "      <td>439.890</td>\n",
       "    </tr>\n",
       "    <tr>\n",
       "      <th>50%</th>\n",
       "      <td>20.080</td>\n",
       "      <td>51.190</td>\n",
       "      <td>1012.830</td>\n",
       "      <td>75.040</td>\n",
       "      <td>452.060</td>\n",
       "    </tr>\n",
       "    <tr>\n",
       "      <th>75%</th>\n",
       "      <td>25.580</td>\n",
       "      <td>66.480</td>\n",
       "      <td>1017.215</td>\n",
       "      <td>85.060</td>\n",
       "      <td>468.615</td>\n",
       "    </tr>\n",
       "    <tr>\n",
       "      <th>max</th>\n",
       "      <td>35.770</td>\n",
       "      <td>80.180</td>\n",
       "      <td>1033.190</td>\n",
       "      <td>100.150</td>\n",
       "      <td>494.840</td>\n",
       "    </tr>\n",
       "  </tbody>\n",
       "</table>\n",
       "</div>"
      ],
      "text/plain": [
       "       Temperature    Vacuum  Pressure  Humidity  EnergyOutput\n",
       "count     2871.000  2871.000  2871.000  2871.000      2871.000\n",
       "mean        19.538    54.029  1013.136    73.350       454.627\n",
       "std          7.453    12.615     5.879    14.734        17.053\n",
       "min          2.580    25.360   993.820    30.590       421.570\n",
       "25%         13.430    41.770  1008.850    63.390       439.890\n",
       "50%         20.080    51.190  1012.830    75.040       452.060\n",
       "75%         25.580    66.480  1017.215    85.060       468.615\n",
       "max         35.770    80.180  1033.190   100.150       494.840"
      ]
     },
     "execution_count": 8,
     "metadata": {},
     "output_type": "execute_result"
    }
   ],
   "source": [
    "dataTEST.describe()"
   ]
  },
  {
   "cell_type": "code",
   "execution_count": 9,
   "metadata": {},
   "outputs": [],
   "source": [
    "x_test = dataTEST.drop(columns=target)\n",
    "y_test = dataTEST[target]\n",
    "x_test_Norm = dataTEST_Norm.drop(columns=target)\n",
    "y_test_Norm = dataTEST_Norm[target]"
   ]
  },
  {
   "cell_type": "code",
   "execution_count": 10,
   "metadata": {},
   "outputs": [
    {
     "data": {
      "text/html": [
       "<div>\n",
       "<style scoped>\n",
       "    .dataframe tbody tr th:only-of-type {\n",
       "        vertical-align: middle;\n",
       "    }\n",
       "\n",
       "    .dataframe tbody tr th {\n",
       "        vertical-align: top;\n",
       "    }\n",
       "\n",
       "    .dataframe thead th {\n",
       "        text-align: right;\n",
       "    }\n",
       "</style>\n",
       "<table border=\"1\" class=\"dataframe\">\n",
       "  <thead>\n",
       "    <tr style=\"text-align: right;\">\n",
       "      <th></th>\n",
       "      <th>Temperature</th>\n",
       "      <th>Vacuum</th>\n",
       "      <th>Pressure</th>\n",
       "      <th>Humidity</th>\n",
       "    </tr>\n",
       "  </thead>\n",
       "  <tbody>\n",
       "    <tr>\n",
       "      <th>0</th>\n",
       "      <td>12.64</td>\n",
       "      <td>41.49</td>\n",
       "      <td>1019.78</td>\n",
       "      <td>94.00</td>\n",
       "    </tr>\n",
       "    <tr>\n",
       "      <th>1</th>\n",
       "      <td>27.08</td>\n",
       "      <td>62.91</td>\n",
       "      <td>1011.90</td>\n",
       "      <td>62.58</td>\n",
       "    </tr>\n",
       "  </tbody>\n",
       "</table>\n",
       "</div>"
      ],
      "text/plain": [
       "   Temperature  Vacuum  Pressure  Humidity\n",
       "0        12.64   41.49   1019.78     94.00\n",
       "1        27.08   62.91   1011.90     62.58"
      ]
     },
     "execution_count": 10,
     "metadata": {},
     "output_type": "execute_result"
    }
   ],
   "source": [
    "x_test[:2]"
   ]
  },
  {
   "cell_type": "code",
   "execution_count": 11,
   "metadata": {},
   "outputs": [
    {
     "data": {
      "text/html": [
       "<div>\n",
       "<style scoped>\n",
       "    .dataframe tbody tr th:only-of-type {\n",
       "        vertical-align: middle;\n",
       "    }\n",
       "\n",
       "    .dataframe tbody tr th {\n",
       "        vertical-align: top;\n",
       "    }\n",
       "\n",
       "    .dataframe thead th {\n",
       "        text-align: right;\n",
       "    }\n",
       "</style>\n",
       "<table border=\"1\" class=\"dataframe\">\n",
       "  <thead>\n",
       "    <tr style=\"text-align: right;\">\n",
       "      <th></th>\n",
       "      <th>Temperature</th>\n",
       "      <th>Vacuum</th>\n",
       "      <th>Pressure</th>\n",
       "      <th>Humidity</th>\n",
       "    </tr>\n",
       "  </thead>\n",
       "  <tbody>\n",
       "    <tr>\n",
       "      <th>0</th>\n",
       "      <td>0.307</td>\n",
       "      <td>0.287</td>\n",
       "      <td>0.665</td>\n",
       "      <td>0.917</td>\n",
       "    </tr>\n",
       "    <tr>\n",
       "      <th>1</th>\n",
       "      <td>0.716</td>\n",
       "      <td>0.668</td>\n",
       "      <td>0.470</td>\n",
       "      <td>0.496</td>\n",
       "    </tr>\n",
       "  </tbody>\n",
       "</table>\n",
       "</div>"
      ],
      "text/plain": [
       "   Temperature  Vacuum  Pressure  Humidity\n",
       "0        0.307   0.287     0.665     0.917\n",
       "1        0.716   0.668     0.470     0.496"
      ]
     },
     "execution_count": 11,
     "metadata": {},
     "output_type": "execute_result"
    }
   ],
   "source": [
    "x_test_Norm[:2]"
   ]
  },
  {
   "cell_type": "markdown",
   "metadata": {},
   "source": [
    "# Шкалы стандартизации. Коэфф."
   ]
  },
  {
   "cell_type": "code",
   "execution_count": 12,
   "metadata": {},
   "outputs": [
    {
     "name": "stdout",
     "output_type": "stream",
     "text": [
      "Нормализация  [[0.18498582]]\n",
      "Денормализация  [[8.3400008]]\n"
     ]
    }
   ],
   "source": [
    "'''\n",
    "Temperature =     8.340000 истинное ~  [[0.18498584]] шкалированное \n",
    "Temperature     =     0.184986 шкалированное  ~  [[8.34000015]] истинное \n",
    "\n",
    "Temperature\n",
    "data_min_    =  [1.81]\n",
    "data_max_    =  [37.11]\n",
    "min_ =  [-0.05127479]\n",
    "scale_ =  [0.02832861]\n",
    "data_range_  =  [35.3]\n",
    "'''\n",
    "# Temperature\n",
    "newScaler_Temperature = MinMaxScaler(feature_range=(0, 1))\n",
    "\n",
    "newScaler_Temperature.data_min_    =  [1.81]\n",
    "newScaler_Temperature.data_max_    =  [37.11]\n",
    "newScaler_Temperature.min_ =  [-0.05127479]\n",
    "newScaler_Temperature.scale_ =  [0.02832861]\n",
    "newScaler_Temperature.data_range_  =  [35.3]\n",
    "\n",
    "# .transform( [[8.340000]] ) - привести значение 8.340000 к заданному диапазону\n",
    "print \"Нормализация \",newScaler_Temperature.transform( [[8.340000]] )\n",
    "\n",
    "# .inverse_transform( [[0.18498584]] ) - привести значение 0.18498584 к исходному диапазону\n",
    "print \"Денормализация \",newScaler_Temperature.inverse_transform( [[0.18498584]])"
   ]
  },
  {
   "cell_type": "code",
   "execution_count": 13,
   "metadata": {},
   "outputs": [
    {
     "name": "stdout",
     "output_type": "stream",
     "text": [
      "Нормализация  [[0.27419911]]\n",
      "Денормализация  [[40.76999358]]\n"
     ]
    }
   ],
   "source": [
    "'''\n",
    "Vacuum\n",
    "data_min_    =  [25.36]\n",
    "data_max_    =  [81.56]\n",
    "min_ =  [-0.45124555]\n",
    "scale_ =  [0.01779359]\n",
    "data_range_  =  [56.2]\n",
    "\n",
    "Vacuum =    40.770000 истинное ~  [[0.27419929]] шкалированное \n",
    "Vacuum     =     0.274199 шкалированное  ~  [[40.7700001]] истинное \n",
    "\n",
    "'''\n",
    "# Temperature\n",
    "newScaler_Vacuum = MinMaxScaler(feature_range=(0, 1))\n",
    "\n",
    "newScaler_Vacuum.data_min_    =  [25.36]\n",
    "newScaler_Vacuum.data_max_    =  [81.56]\n",
    "newScaler_Vacuum.min_ =  [-0.45124555]\n",
    "newScaler_Vacuum.scale_ =  [0.01779359]\n",
    "newScaler_Vacuum.data_range_  =  [56.2]\n",
    "\n",
    "# .transform( [[40.770000]] ) - привести значение 40.770000 к заданному диапазону\n",
    "print \"Нормализация \",newScaler_Vacuum.transform( [[40.770000]] )\n",
    "\n",
    "# .inverse_transform( [[0.274199]] ) - привести значение 0.274199 к исходному диапазону\n",
    "print \"Денормализация \",newScaler_Vacuum.inverse_transform( [[0.274199]])"
   ]
  },
  {
   "cell_type": "code",
   "execution_count": 14,
   "metadata": {},
   "outputs": [
    {
     "name": "stdout",
     "output_type": "stream",
     "text": [
      "Нормализация  [[0.79761439]]\n",
      "Денормализация  [[480.47999967]]\n"
     ]
    }
   ],
   "source": [
    "'''\n",
    "EnergyOutput\n",
    "data_min_    =  [420.26]\n",
    "data_max_    =  [495.76]\n",
    "min_ =  [-5.56635762]\n",
    "scale_ =  [0.01324503]\n",
    "data_range_  =  [75.5]\n",
    "\n",
    "EnergyOutput =    480.48 истинное ~  [[0.79761439]] шкалированное \n",
    "EnergyOutput     =     0.79761439 шкалированное  ~  [[480.47999967]] истинное \n",
    "\n",
    "'''\n",
    "# EnergyOutput\n",
    "newScaler_EnergyOutput = MinMaxScaler(feature_range=(0, 1))\n",
    "\n",
    "newScaler_EnergyOutput.data_min_    =  [420.26]\n",
    "newScaler_EnergyOutput.data_max_    = [495.76]\n",
    "newScaler_EnergyOutput.min_ =  [-5.56635762]\n",
    "newScaler_EnergyOutput.scale_ =  [0.01324503]\n",
    "newScaler_EnergyOutput.data_range_  =  [75.5]\n",
    "\n",
    "# .transform( [[480.48]] ) - привести значение480.48 к заданному диапазону\n",
    "print \"Нормализация \",newScaler_EnergyOutput.transform( [[480.48]] )\n",
    "\n",
    "# .inverse_transform( [[0.79761439]] ) - привести значение 0.79761439 к исходному диапазону\n",
    "print \"Денормализация \",newScaler_EnergyOutput.inverse_transform( [[0.79761439]])"
   ]
  },
  {
   "cell_type": "code",
   "execution_count": null,
   "metadata": {},
   "outputs": [],
   "source": []
  },
  {
   "cell_type": "code",
   "execution_count": 15,
   "metadata": {},
   "outputs": [],
   "source": [
    "descriptionJson = open(\"./model_description.json\",'r')\n",
    "description = json.load(descriptionJson)"
   ]
  },
  {
   "cell_type": "markdown",
   "metadata": {},
   "source": [
    "# Нейронная сеть. Файл pickle."
   ]
  },
  {
   "cell_type": "markdown",
   "metadata": {},
   "source": [
    "## Модель 2 вх., 1 вых."
   ]
  },
  {
   "cell_type": "code",
   "execution_count": 16,
   "metadata": {},
   "outputs": [
    {
     "data": {
      "text/plain": [
       "array([0.30679887, 0.28701068])"
      ]
     },
     "execution_count": 16,
     "metadata": {},
     "output_type": "execute_result"
    }
   ],
   "source": [
    "x_sample_2 = x_test_Norm[features][0:1]\n",
    "x_sample_2.values[0]"
   ]
  },
  {
   "cell_type": "code",
   "execution_count": 17,
   "metadata": {},
   "outputs": [
    {
     "name": "stdout",
     "output_type": "stream",
     "text": [
      "Результат проfверки. Нейронная сеть 2 вх., 1 вых. Файл pickle.\n",
      "[0.67374703]\n"
     ]
    }
   ],
   "source": [
    "import pickle\n",
    "fileName_net2 = \"model_Net_3to1.data_pickle\"\n",
    "\n",
    "with open(fileName_net2, 'rb') as f:\n",
    "    net2 = pickle.load(f)\n",
    "print \"Результат проfверки. Нейронная сеть 2 вх., 1 вых. Файл pickle.\"\n",
    "print net2.activate(x_sample_2.values[0])"
   ]
  },
  {
   "cell_type": "code",
   "execution_count": 18,
   "metadata": {},
   "outputs": [],
   "source": [
    "resultNet2 = net2.activate( x_sample_2.values[0] )\n",
    "discNet2 = description['neuroNet2'] "
   ]
  },
  {
   "cell_type": "markdown",
   "metadata": {},
   "source": [
    "## Модель 12 вх., 1 вых."
   ]
  },
  {
   "cell_type": "code",
   "execution_count": 19,
   "metadata": {},
   "outputs": [
    {
     "data": {
      "text/plain": [
       "array([0.30679887, 0.28701068, 0.66542935, 0.91742627])"
      ]
     },
     "execution_count": 19,
     "metadata": {},
     "output_type": "execute_result"
    }
   ],
   "source": [
    "x_sample_12 = x_test_Norm[0:1]\n",
    "x_sample_12.values[0]"
   ]
  },
  {
   "cell_type": "code",
   "execution_count": 20,
   "metadata": {},
   "outputs": [
    {
     "name": "stdout",
     "output_type": "stream",
     "text": [
      "Результат проверки. Нейронная сеть 2 вх., 1 вых. Файл pickle.\n",
      "[0.62228886]\n"
     ]
    }
   ],
   "source": [
    "import pickle\n",
    "# имя файла\n",
    "fileName_net12 = \"model_Net_WV.data_pickle\"\n",
    "\n",
    "with open(fileName_net12, 'rb') as f:\n",
    "    net12 = pickle.load(f)\n",
    "print \"Результат проверки. Нейронная сеть 2 вх., 1 вых. Файл pickle.\"\n",
    "print net12.activate( x_sample_12.values[0] )"
   ]
  },
  {
   "cell_type": "code",
   "execution_count": 21,
   "metadata": {},
   "outputs": [],
   "source": [
    "resultNet12 = net12.activate( x_sample_12.values[0] )\n",
    "discNet12 = description['neuroNet12']"
   ]
  },
  {
   "cell_type": "markdown",
   "metadata": {},
   "source": [
    "## Линейная регрессия. Коэфф."
   ]
  },
  {
   "cell_type": "code",
   "execution_count": 22,
   "metadata": {},
   "outputs": [
    {
     "name": "stdout",
     "output_type": "stream",
     "text": [
      "R2   =  0.917876348482411\n",
      "MAE  =  0.004187942811827928 [[489.55977967]]\n",
      "RMSE  = 0.00418794281183 489.560 \n"
     ]
    }
   ],
   "source": [
    "model_LinRegrMult           = linear_model.LinearRegression()\n",
    "model_LinRegrMult.coef_      = np.array([-0.793, -0.244])\n",
    "model_LinRegrMult.intercept_ = np.array([0.978])\n",
    "y_pred_LinRegrMult_CLEAR           = model_LinRegrMult.predict(  x_test_Norm[features]  )\n",
    "\n",
    "\n",
    "r2_Lin = metrics.r2_score(y_test_Norm, y_pred_LinRegrMult_CLEAR)\n",
    "mse_Lin = metrics.mean_squared_error(y_test_Norm, y_pred_LinRegrMult_CLEAR)\n",
    "\n",
    "print \"R2   = \", r2_Lin\n",
    "print \"MAE  = \", mse_Lin, newScaler_EnergyOutput.inverse_transform( [[ r2_Lin ]])\n",
    "print \"RMSE  = {} {:,.3f} \".format( mse_Lin,newScaler_EnergyOutput.inverse_transform( [[ r2_Lin ]])[0][0])"
   ]
  },
  {
   "cell_type": "code",
   "execution_count": 24,
   "metadata": {},
   "outputs": [
    {
     "name": "stdout",
     "output_type": "stream",
     "text": [
      "Результат проверки. Линейная регрессия. Коэфф.\n",
      "Проверочное  [[0.64264901]]\n",
      "Вычисленное  0.24729136027743892\n",
      "Проверочное  [[468.78011047]]\n",
      "Вычисленное  [[438.93060116]]\n"
     ]
    }
   ],
   "source": [
    "print \"Результат проверки. Линейная регрессия. Коэфф.\"\n",
    "print \"Проверочное \", y_test_Norm.iloc[0:1].values\n",
    "print \"Вычисленное \", y_pred_LinRegrMult_CLEAR[1] \n",
    "\n",
    "print \"Проверочное \", newScaler_EnergyOutput.inverse_transform(y_test_Norm.iloc[0:1].values)\n",
    "print \"Вычисленное \", newScaler_EnergyOutput.inverse_transform([[y_pred_LinRegrMult_CLEAR[1]]])"
   ]
  },
  {
   "cell_type": "markdown",
   "metadata": {},
   "source": [
    "## Линейная регрессия. Файл pickle."
   ]
  },
  {
   "cell_type": "code",
   "execution_count": 26,
   "metadata": {},
   "outputs": [
    {
     "name": "stdout",
     "output_type": "stream",
     "text": [
      "Результат проверки. Линейная регрессия. Файл pickle.\n",
      "y_pred Исходной,  y_pred Загруженной,  delta,  delta < 0.000001\n",
      "[[0.64264901]] [0.66501902] [[-0.02237001]] [[ True]]\n",
      "[[0.3]] [0.24758593] [[0.05241407]] [[False]]\n",
      "[[0.51933775]] [0.57798572] [[-0.05864797]] [[ True]]\n",
      "[[0.29933775]] [0.27548388] [[0.02385387]] [[False]]\n",
      "[[0.42238411]] [0.36842951] [[0.05395459]] [[False]]\n",
      "[[0.54569536]] [0.59208788] [[-0.04639252]] [[ True]]\n",
      "[[0.32887417]] [0.3807259] [[-0.05185173]] [[ True]]\n",
      "[[0.38966887]] [0.40485561] [[-0.01518673]] [[ True]]\n",
      "[[0.86993377]] [0.82008826] [[0.04984551]] [[False]]\n",
      "[[0.48476821]] [0.50108903] [[-0.01632082]] [[ True]]\n"
     ]
    }
   ],
   "source": [
    "import pickle\n",
    "fileName_LinRegrMult = \"model_LinRegrMult.data_pickle\"\n",
    "\n",
    "with open(fileName_LinRegrMult, 'rb') as f:\n",
    "    model_LinRegrMult = pickle.load(f)\n",
    "\n",
    "y_pred_LinRegrMult_CLEAR = model_LinRegrMult.predict(  x_test_Norm[features]  )\n",
    "discLinear = description['linear']\n",
    "print \"Результат проверки. Линейная регрессия. Файл pickle.\"\n",
    "\n",
    "print \"y_pred Исходной, \", \"y_pred Загруженной, \", \"delta, \", \"delta < 0.000001\"\n",
    "\n",
    "for i in range (0, 10):\n",
    "    delta = (y_test_Norm.iloc[i:i+1].values  - y_pred_LinRegrMult_CLEAR[i] ) \n",
    "    print y_test_Norm.iloc[i:i+1].values , y_pred_LinRegrMult_CLEAR[i], delta, delta < 0.000001"
   ]
  },
  {
   "cell_type": "markdown",
   "metadata": {},
   "source": [
    "## Дерево регрессии. Файл pickle."
   ]
  },
  {
   "cell_type": "code",
   "execution_count": 28,
   "metadata": {},
   "outputs": [
    {
     "name": "stdout",
     "output_type": "stream",
     "text": [
      "Результат проверки. Дерево регрессии\n",
      "y_pred Исходной,  y_pred Загруженной,  delta,  delta < 0.000001\n",
      "[[0.64264901]] [0.66501902] [[-0.02237001]] [[ True]]\n",
      "[[0.3]] [0.24758593] [[0.05241407]] [[False]]\n",
      "[[0.51933775]] [0.57798572] [[-0.05864797]] [[ True]]\n",
      "[[0.29933775]] [0.27548388] [[0.02385387]] [[False]]\n",
      "[[0.42238411]] [0.36842951] [[0.05395459]] [[False]]\n",
      "[[0.54569536]] [0.59208788] [[-0.04639252]] [[ True]]\n",
      "[[0.32887417]] [0.3807259] [[-0.05185173]] [[ True]]\n",
      "[[0.38966887]] [0.40485561] [[-0.01518673]] [[ True]]\n",
      "[[0.86993377]] [0.82008826] [[0.04984551]] [[False]]\n",
      "[[0.48476821]] [0.50108903] [[-0.01632082]] [[ True]]\n"
     ]
    }
   ],
   "source": [
    "import pickle\n",
    "fileName_treeRegr_d6 = \"model_treeRegr_d6.data_pickle\"\n",
    "\n",
    "with open(fileName_LinRegrMult, 'rb') as f:\n",
    "    treeRegr_d6 = pickle.load(f)\n",
    "\n",
    "y_pred_treeRegr_d6 = treeRegr_d6.predict(  x_test_Norm[features]  )\n",
    "discTree = description['tree']\n",
    "print \"Результат проверки. Дерево регрессии\"\n",
    "\n",
    "print \"y_pred Исходной, \", \"y_pred Загруженной, \", \"delta, \", \"delta < 0.000001\"\n",
    "\n",
    "for i in range (0, 10):\n",
    "    delta = (y_test_Norm.iloc[i:i+1].values  - y_pred_treeRegr_d6[i] ) \n",
    "    print y_test_Norm.iloc[i:i+1].values , y_pred_treeRegr_d6[i], delta, delta < 0.000001"
   ]
  },
  {
   "cell_type": "code",
   "execution_count": 30,
   "metadata": {},
   "outputs": [
    {
     "name": "stdout",
     "output_type": "stream",
     "text": [
      " [[0.66501902]] [[470.46904677]]\n"
     ]
    }
   ],
   "source": [
    "print y_pred_treeRegr_d6[0:1], newScaler_EnergyOutput.inverse_transform(y_pred_treeRegr_d6[0:1])"
   ]
  },
  {
   "cell_type": "code",
   "execution_count": 33,
   "metadata": {},
   "outputs": [
    {
     "name": "stdout",
     "output_type": "stream",
     "text": [
      "Результат проверки. Нейронная сеть 2 вх., 1 вых. Файл pickle.\n",
      "[0.67374703]  |  [[471.12801185]]\n",
      "\n",
      "\n",
      "dataNormalised   True\n",
      "target   [u'EnergyOutput']\n",
      "r2   0.92741328581\n",
      "name   Нейросеть 2вх, 1 вых. 75 итераций\n",
      "mae   0.0477412097737\n",
      "features   [u'Temperature', u'Vacuum']\n",
      "mse   0.0037016012112\n",
      "typeML   Нейронная сеть\n",
      "\n",
      "\n",
      "Результат проверки. Нейронная сеть 12 вх., 1 вых. Файл pickle.\n",
      "[0.62228886]  |  [[467.24291904]] \n",
      "\n",
      "\n",
      "\n",
      "Результат проверки. Линейная регрессия. Коэфф.\n",
      "[[0.64264901]]  |  [[468.78011047]]\n",
      "\n",
      "\n",
      "Результат проверки. Линейная регрессия. Файл pickle.\n",
      "[[0.66501902]] | [[470.46904677]]\n",
      "\n",
      "\n",
      "dataNormalised   True\n",
      "target   [u'temp']\n",
      "r2   0.917872778718\n",
      "name   Множественная\n",
      "mae   0.051046196666\n",
      "features   [u'RH', u'ISI']\n",
      "mse   0.00418812485402\n",
      "typeML   Линейная регрессия\n",
      "\n",
      "\n",
      "Результат проверки. Дерево регрессии\n",
      "[[0.66501902]] | [[470.46904677]]\n",
      "\n",
      "\n",
      "dataNormalised   True\n",
      "target   [u'temp']\n",
      "r2   0.933011173534\n",
      "name   Дерево регрессии\n",
      "mae   0.0441535536356\n",
      "features   [u'RH', u'ISI']\n",
      "mse   0.00341613370918\n",
      "typeML   Дерево регрессии\n"
     ]
    }
   ],
   "source": [
    "print \"Результат проверки. Нейронная сеть 2 вх., 1 вых. Файл pickle.\"\n",
    "print resultNet2 ,\" | \", newScaler_EnergyOutput.inverse_transform([resultNet2])\n",
    "print \"\\n\"\n",
    "for key in discNet2:\n",
    "  print key,\" \",discNet2[key]\n",
    "\n",
    "print \"\\n\"\n",
    "print \"Результат проверки. Нейронная сеть 12 вх., 1 вых. Файл pickle.\"\n",
    "print resultNet12,\" | \",newScaler_EnergyOutput.inverse_transform([resultNet12]),\"\\n\"\n",
    "for key in discNet12:\n",
    "  print \"@\", key,\" \",discNet12[key]\n",
    "\n",
    "print \"\\n\"\n",
    "\n",
    "print \"Результат проверки. Линейная регрессия. Коэфф.\"\n",
    "print y_test_Norm.iloc[0:1].values,\" | \",newScaler_EnergyOutput.inverse_transform(y_test_Norm.iloc[0:1].values)\n",
    "#print \"Вычисленное \", y_pred_LinRegrMult_CLEAR[1],\" | \"#, newScaler_quality.inverse_transform([[y_pred_LinRegrMult_CLEAR[1]]])\n",
    "print \"\\n\"\n",
    "print \"Результат проверки. Линейная регрессия. Файл pickle.\"\n",
    "print y_pred_LinRegrMult_CLEAR[0:1], \"|\", newScaler_EnergyOutput.inverse_transform(y_pred_LinRegrMult_CLEAR[0:1])\n",
    "\n",
    "print \"\\n\"\n",
    "for key in discLinear:\n",
    "  print key,\" \",discLinear[key]\n",
    "print \"\\n\"\n",
    "print \"Результат проверки. Дерево регрессии\"\n",
    "print y_pred_treeRegr_d6[0:1], \"|\", newScaler_EnergyOutput.inverse_transform(y_pred_treeRegr_d6[0:1])\n",
    "\n",
    "print \"\\n\"\n",
    "\n",
    "for key in discTree:\n",
    "  print key,\" \",discTree[key]"
   ]
  },
  {
   "cell_type": "markdown",
   "metadata": {},
   "source": [
    "# Выводы"
   ]
  },
  {
   "cell_type": "markdown",
   "metadata": {},
   "source": [
    "Был разработан проект сегмента базы знаний интеллектуальной системы, содержащей набор моделей, сформированных с помощью различных методов машинного обучения (модели линейной множественной регрессии, деревья решений, нейронные сети). Сопроводительная информация о моделях была сохранена в предыдущей работе в формате json.\n",
    "\n",
    "Полученные результаты:\n",
    "\n",
    "Нейронная сеть 2 вх., 1 вых. Файл pickle. [0.67374703]  |  [471.12801185]\n",
    "\n",
    "Нейронная сеть 12 вх., 1 вых. Файл pickle. [0.62228886]  |  [467.24291904]\n",
    "\n",
    "Линейная регрессия. Коэфф. [0.64264901]  |  [468.78011047]]\n",
    "\n",
    "Линейная регрессия. Файл pickle.[0.66501902]] | [470.46904677]\n",
    "\n",
    "Дерево регрессии [0.66501902] | [470.46904677]"
   ]
  },
  {
   "cell_type": "code",
   "execution_count": null,
   "metadata": {},
   "outputs": [],
   "source": []
  }
 ],
 "metadata": {
  "kernelspec": {
   "display_name": "Python 2",
   "language": "python",
   "name": "python2"
  },
  "language_info": {
   "codemirror_mode": {
    "name": "ipython",
    "version": 2
   },
   "file_extension": ".py",
   "mimetype": "text/x-python",
   "name": "python",
   "nbconvert_exporter": "python",
   "pygments_lexer": "ipython2",
   "version": "2.7.13"
  }
 },
 "nbformat": 4,
 "nbformat_minor": 2
}
